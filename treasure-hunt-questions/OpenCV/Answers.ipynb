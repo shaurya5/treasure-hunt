{
 "cells": [
  {
   "cell_type": "markdown",
   "metadata": {},
   "source": [
    "# Importing Libraries"
   ]
  },
  {
   "cell_type": "code",
   "execution_count": 2,
   "metadata": {},
   "outputs": [
    {
     "ename": "ModuleNotFoundError",
     "evalue": "No module named 'cv2'",
     "output_type": "error",
     "traceback": [
      "\u001b[1;31m---------------------------------------------------------------------------\u001b[0m",
      "\u001b[1;31mModuleNotFoundError\u001b[0m                       Traceback (most recent call last)",
      "\u001b[1;32m~\\AppData\\Local\\Temp\\ipykernel_8400\\4099998830.py\u001b[0m in \u001b[0;36m<module>\u001b[1;34m\u001b[0m\n\u001b[1;32m----> 1\u001b[1;33m \u001b[1;32mimport\u001b[0m \u001b[0mcv2\u001b[0m\u001b[1;33m\u001b[0m\u001b[1;33m\u001b[0m\u001b[0m\n\u001b[0m\u001b[0;32m      2\u001b[0m \u001b[1;32mimport\u001b[0m \u001b[0mnumpy\u001b[0m \u001b[1;32mas\u001b[0m \u001b[0mnp\u001b[0m\u001b[1;33m\u001b[0m\u001b[1;33m\u001b[0m\u001b[0m\n",
      "\u001b[1;31mModuleNotFoundError\u001b[0m: No module named 'cv2'"
     ]
    }
   ],
   "source": [
    "import cv2\n",
    "import numpy as np"
   ]
  },
  {
   "cell_type": "markdown",
   "metadata": {},
   "source": [
    "# First Image"
   ]
  },
  {
   "cell_type": "code",
   "execution_count": 2,
   "metadata": {},
   "outputs": [
    {
     "name": "stdout",
     "output_type": "stream",
     "text": [
      "78\n",
      "86\n",
      "82\n",
      "71\n",
      "78\n",
      "65\n",
      "71\n",
      "73\n",
      "86\n",
      "85\n",
      "80\n"
     ]
    }
   ],
   "source": [
    "first = cv2.imread(\"Images/round1.jpg\")\n",
    "\n",
    "# Function used to make the question\n",
    "# def randomFunc():\n",
    "#     for x in range(first.shape[0]):\n",
    "#         for y in range(first.shape[1]):\n",
    "#             for z in range(first.shape[2]):\n",
    "#                 if first[x][y][z] == 80:\n",
    "#                     print(x, y, z)\n",
    "\n",
    "# randomFunc()\n",
    "print(first[75,624,0])\n",
    "print(first[21,6624,2])\n",
    "print(first[0,6433,1])\n",
    "print(first[1896,8050,1])\n",
    "print(first[13,6552,2])\n",
    "print(first[113,7054,1])\n",
    "print(first[329,6967,2])\n",
    "print(first[506,6442,0])\n",
    "print(first[63,8361,1])\n",
    "print(first[601,241,0])\n",
    "print(first[165,6950,0])\n",
    "\n",
    "#First Clue: You found a map on the ground and it has the following coordinates circled:\n",
    "#78N(75,624,0)\n",
    "#86V(21,6624,2)\n",
    "#82R(0,6433,1)\n",
    "#71G(1896,8050,1)\n",
    "#78N(13,6552,2)\n",
    "#65A(113,7054,1)\n",
    "#71G(329,6967,2)\n",
    "#73I(506,6442,0)\n",
    "#86V(63,8361,1)\n",
    "#85U(601,241,0)\n",
    "#80P(165,6950,0)\n",
    "#Can you triangulate the location of the treasure?\n"
   ]
  },
  {
   "cell_type": "markdown",
   "metadata": {},
   "source": [
    "# Second Image"
   ]
  },
  {
   "cell_type": "code",
   "execution_count": 1,
   "metadata": {},
   "outputs": [
    {
     "ename": "NameError",
     "evalue": "name 'cv2' is not defined",
     "output_type": "error",
     "traceback": [
      "\u001b[1;31m---------------------------------------------------------------------------\u001b[0m",
      "\u001b[1;31mNameError\u001b[0m                                 Traceback (most recent call last)",
      "\u001b[1;32m~\\AppData\\Local\\Temp\\ipykernel_8400\\2943028129.py\u001b[0m in \u001b[0;36m<module>\u001b[1;34m\u001b[0m\n\u001b[1;32m----> 1\u001b[1;33m \u001b[0msecond\u001b[0m \u001b[1;33m=\u001b[0m \u001b[0mcv2\u001b[0m\u001b[1;33m.\u001b[0m\u001b[0mimread\u001b[0m\u001b[1;33m(\u001b[0m\u001b[1;34m\"Images/round2.png\"\u001b[0m\u001b[1;33m)\u001b[0m\u001b[1;33m\u001b[0m\u001b[1;33m\u001b[0m\u001b[0m\n\u001b[0m\u001b[0;32m      2\u001b[0m \u001b[0mcv2\u001b[0m\u001b[1;33m.\u001b[0m\u001b[0mimshow\u001b[0m\u001b[1;33m(\u001b[0m\u001b[1;34m\"Second\"\u001b[0m\u001b[1;33m,\u001b[0m \u001b[0msecond\u001b[0m\u001b[1;33m)\u001b[0m\u001b[1;33m\u001b[0m\u001b[1;33m\u001b[0m\u001b[0m\n\u001b[0;32m      3\u001b[0m \u001b[1;33m\u001b[0m\u001b[0m\n\u001b[0;32m      4\u001b[0m \u001b[0mb\u001b[0m\u001b[1;33m,\u001b[0m\u001b[0mg\u001b[0m\u001b[1;33m,\u001b[0m\u001b[0mr\u001b[0m \u001b[1;33m=\u001b[0m \u001b[0mcv2\u001b[0m\u001b[1;33m.\u001b[0m\u001b[0msplit\u001b[0m\u001b[1;33m(\u001b[0m\u001b[0msecond\u001b[0m\u001b[1;33m)\u001b[0m\u001b[1;33m\u001b[0m\u001b[1;33m\u001b[0m\u001b[0m\n\u001b[0;32m      5\u001b[0m \u001b[0mret\u001b[0m\u001b[1;33m,\u001b[0m \u001b[0mbt\u001b[0m \u001b[1;33m=\u001b[0m \u001b[0mcv2\u001b[0m\u001b[1;33m.\u001b[0m\u001b[0mthreshold\u001b[0m\u001b[1;33m(\u001b[0m\u001b[0mb\u001b[0m\u001b[1;33m,\u001b[0m \u001b[1;36m32\u001b[0m\u001b[1;33m,\u001b[0m \u001b[1;36m255\u001b[0m\u001b[1;33m,\u001b[0m \u001b[0mcv2\u001b[0m\u001b[1;33m.\u001b[0m\u001b[0mTHRESH_BINARY\u001b[0m\u001b[1;33m)\u001b[0m\u001b[1;33m\u001b[0m\u001b[1;33m\u001b[0m\u001b[0m\n",
      "\u001b[1;31mNameError\u001b[0m: name 'cv2' is not defined"
     ]
    }
   ],
   "source": [
    "second = cv2.imread(\"Images/round2.png\")\n",
    "cv2.imshow(\"Second\", second)\n",
    "\n",
    "b,g,r = cv2.split(second)\n",
    "ret, bt = cv2.threshold(b, 32, 255, cv2.THRESH_BINARY)\n",
    "ret, gt = cv2.threshold(g, 32, 255, cv2.THRESH_BINARY)\n",
    "ret, rt = cv2.threshold(r, 32, 255, cv2.THRESH_BINARY)\n",
    "cv2.imshow(\"b\", bt)\n",
    "cv2.imshow(\"g\", gt)\n",
    "cv2.imshow(\"r\", rt)\n",
    "cv2.waitKey(0)\n",
    "cv2.destroyAllWindows()"
   ]
  },
  {
   "cell_type": "markdown",
   "metadata": {},
   "source": [
    "# Third Image"
   ]
  },
  {
   "cell_type": "code",
   "execution_count": 9,
   "metadata": {},
   "outputs": [],
   "source": [
    "third = cv2.imread(\"Images/round3.png\")\n",
    "cv2.imshow(\"third\", third)\n",
    "m=9\n",
    "n=m//2\n",
    "kernel1 = np.full((m,m),-1)\n",
    "for i in range(m):\n",
    "    for j in range(m):\n",
    "        if (i+j)%2==0:\n",
    "            kernel1[i,j]=0 \n",
    "kernel1[n,n]=(m)*m//2+1\n",
    "thirdWithFilter = cv2.filter2D(third, -1, kernel1)\n",
    "cv2.imshow(\"thirdWithFilter\", thirdWithFilter)\n",
    "cv2.waitKey(0)\n",
    "cv2.destroyAllWindows()"
   ]
  }
 ],
 "metadata": {
  "kernelspec": {
   "display_name": "Python 3.9.12 ('base')",
   "language": "python",
   "name": "python3"
  },
  "language_info": {
   "codemirror_mode": {
    "name": "ipython",
    "version": 3
   },
   "file_extension": ".py",
   "mimetype": "text/x-python",
   "name": "python",
   "nbconvert_exporter": "python",
   "pygments_lexer": "ipython3",
   "version": "3.9.13"
  },
  "orig_nbformat": 4,
  "vscode": {
   "interpreter": {
    "hash": "44df468d23e9f8c56622276b10134b0e97e2035b13bfe87941709e3f27b73c34"
   }
  }
 },
 "nbformat": 4,
 "nbformat_minor": 2
}
